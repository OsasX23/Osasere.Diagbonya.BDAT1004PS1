{
 "cells": [
  {
   "cell_type": "markdown",
   "id": "2be3541c",
   "metadata": {},
   "source": [
    "Question 1\n",
    "What data type is each of the following (evaluate where necessary)?\n",
    "5\n",
    "5.0\n",
    "5 > 1\n",
    "'5'\n",
    "5 * 2\n",
    "'5' * 2\n",
    "'5' + '2'\n",
    "5 / 2\n",
    "5\n",
    "2\n",
    "{\n",
    "5, 2, 1\n",
    "5\n",
    "== 3\n",
    "Pi\n",
    "(the"
   ]
  },
  {
   "cell_type": "code",
   "execution_count": 5,
   "id": "f0e9d835",
   "metadata": {},
   "outputs": [
    {
     "data": {
      "text/plain": [
       "float"
      ]
     },
     "execution_count": 5,
     "metadata": {},
     "output_type": "execute_result"
    }
   ],
   "source": [
    "type(5.0)\n",
    "\n"
   ]
  },
  {
   "cell_type": "code",
   "execution_count": 3,
   "id": "88574d82",
   "metadata": {},
   "outputs": [
    {
     "data": {
      "text/plain": [
       "str"
      ]
     },
     "execution_count": 3,
     "metadata": {},
     "output_type": "execute_result"
    }
   ],
   "source": [
    "type('5')"
   ]
  },
  {
   "cell_type": "code",
   "execution_count": 4,
   "id": "2bb5d284",
   "metadata": {},
   "outputs": [
    {
     "data": {
      "text/plain": [
       "float"
      ]
     },
     "execution_count": 4,
     "metadata": {},
     "output_type": "execute_result"
    }
   ],
   "source": [
    "type(5.0)"
   ]
  },
  {
   "cell_type": "code",
   "execution_count": 6,
   "id": "793d4000",
   "metadata": {},
   "outputs": [
    {
     "data": {
      "text/plain": [
       "bool"
      ]
     },
     "execution_count": 6,
     "metadata": {},
     "output_type": "execute_result"
    }
   ],
   "source": [
    "type(5>1)"
   ]
  },
  {
   "cell_type": "code",
   "execution_count": 7,
   "id": "94d4cc73",
   "metadata": {},
   "outputs": [
    {
     "data": {
      "text/plain": [
       "int"
      ]
     },
     "execution_count": 7,
     "metadata": {},
     "output_type": "execute_result"
    }
   ],
   "source": [
    "type(5 * 2)"
   ]
  },
  {
   "cell_type": "code",
   "execution_count": 8,
   "id": "72fb86df",
   "metadata": {},
   "outputs": [
    {
     "data": {
      "text/plain": [
       "str"
      ]
     },
     "execution_count": 8,
     "metadata": {},
     "output_type": "execute_result"
    }
   ],
   "source": [
    "type('5' * 2)"
   ]
  },
  {
   "cell_type": "code",
   "execution_count": 9,
   "id": "ca7cdc0c",
   "metadata": {},
   "outputs": [
    {
     "data": {
      "text/plain": [
       "str"
      ]
     },
     "execution_count": 9,
     "metadata": {},
     "output_type": "execute_result"
    }
   ],
   "source": [
    "type('5' + '2')"
   ]
  },
  {
   "cell_type": "code",
   "execution_count": 2,
   "id": "0924179d",
   "metadata": {},
   "outputs": [
    {
     "data": {
      "text/plain": [
       "int"
      ]
     },
     "execution_count": 2,
     "metadata": {},
     "output_type": "execute_result"
    }
   ],
   "source": [
    "type(5 % 2)"
   ]
  },
  {
   "cell_type": "code",
   "execution_count": 10,
   "id": "a14b7b62",
   "metadata": {},
   "outputs": [
    {
     "data": {
      "text/plain": [
       "set"
      ]
     },
     "execution_count": 10,
     "metadata": {},
     "output_type": "execute_result"
    }
   ],
   "source": [
    "type({5, 2, 1})\n"
   ]
  },
  {
   "cell_type": "code",
   "execution_count": 11,
   "id": "9c1979f8",
   "metadata": {},
   "outputs": [
    {
     "data": {
      "text/plain": [
       "bool"
      ]
     },
     "execution_count": 11,
     "metadata": {},
     "output_type": "execute_result"
    }
   ],
   "source": [
    "type(5 == 3)"
   ]
  },
  {
   "cell_type": "code",
   "execution_count": 12,
   "id": "63dfb21c",
   "metadata": {},
   "outputs": [
    {
     "data": {
      "text/plain": [
       "float"
      ]
     },
     "execution_count": 12,
     "metadata": {},
     "output_type": "execute_result"
    }
   ],
   "source": [
    "type(3.142)"
   ]
  },
  {
   "cell_type": "markdown",
   "id": "2783ccc5",
   "metadata": {},
   "source": [
    "Question 2\n",
    "Write (and evaluate) python expressions that answer these questions:\n",
    "a. How many letters are there in 'Supercalifragilisticexpialidocious'?\n",
    "b. Does 'Supercalifragilisticexpialidocious' contain 'ice' as a substring?\n",
    "c. Which of the following words is the longest:\n",
    "Supercalifragilisticexpialidocious, Honorificabilitudinitatibus, or\n",
    "Bababadalgharaghtakamminarronnkonn?\n",
    "d. Which composer comes first in the dictionary: 'Berlioz', 'Borodin', 'Brian',\n",
    "'Bartok', 'Bellini', 'Buxtehude', 'Bernstein'. Which one comes last?"
   ]
  },
  {
   "cell_type": "code",
   "execution_count": 13,
   "id": "ca1cbc2c",
   "metadata": {},
   "outputs": [
    {
     "data": {
      "text/plain": [
       "34"
      ]
     },
     "execution_count": 13,
     "metadata": {},
     "output_type": "execute_result"
    }
   ],
   "source": [
    "x='Supercalifragilisticexpialidocious'\n",
    "len(x)"
   ]
  },
  {
   "cell_type": "code",
   "execution_count": 14,
   "id": "d8ab347e",
   "metadata": {},
   "outputs": [
    {
     "data": {
      "text/plain": [
       "'ice'"
      ]
     },
     "execution_count": 14,
     "metadata": {},
     "output_type": "execute_result"
    }
   ],
   "source": [
    "word ='Supercalifragilisticexpialidocious'\n",
    "word[18:21]\n"
   ]
  },
  {
   "cell_type": "code",
   "execution_count": 16,
   "id": "c7a385db",
   "metadata": {},
   "outputs": [
    {
     "data": {
      "text/plain": [
       "28"
      ]
     },
     "execution_count": 16,
     "metadata": {},
     "output_type": "execute_result"
    }
   ],
   "source": [
    "y=' Honorificabilitudinitatibus'\n",
    "len(y)"
   ]
  },
  {
   "cell_type": "code",
   "execution_count": 15,
   "id": "e02bf5c1",
   "metadata": {},
   "outputs": [
    {
     "data": {
      "text/plain": [
       "34"
      ]
     },
     "execution_count": 15,
     "metadata": {},
     "output_type": "execute_result"
    }
   ],
   "source": [
    "z='Bababadalgharaghtakamminarronnkonn'\n",
    "len(z)"
   ]
  },
  {
   "cell_type": "markdown",
   "id": "657f88de",
   "metadata": {},
   "source": [
    "Supercalifragilisticexpialidocious and Bababadalgharaghtakamminarronnkonn are the longerest words\n"
   ]
  },
  {
   "cell_type": "raw",
   "id": "d62f44e5",
   "metadata": {},
   "source": [
    "Bartok comes first and Buxtehude comes last"
   ]
  },
  {
   "cell_type": "markdown",
   "id": "7908c662",
   "metadata": {},
   "source": [
    "Question 3\n",
    "Implement function triangleArea(a,b,c) that takes as input the lengths of the 3\n",
    "sides of a triangle and returns the area of the triangle. By Heron's formula, the area\n",
    "of a triangle with side lengths a, b, and c is\n",
    "s(s - a)(s -b)(s -c), where\n",
    "s = (a +b + c) /2."
   ]
  },
  {
   "cell_type": "markdown",
   "id": "aa8585bf",
   "metadata": {},
   "source": [
    "import math\n",
    "\n",
    "def triangleArea(a, b, c):\n",
    "    s = (a+b+c)//2\n",
    "    return math.sqrt(s*(s-a)*(s-b)*(s-c))\n",
    " #https://stackoverflow.com/questions/62056407/i-am-student-and-new-to-python-and-i-have-an-exam-question"
   ]
  },
  {
   "cell_type": "markdown",
   "id": "adfe2f4c",
   "metadata": {},
   "source": [
    "Question 4\n",
    "Write a program in python to separate odd and even integers in separate arrays. Go\n",
    "to the editor\n",
    "Test Data :\n",
    "Input the number of elements to be stored in the array :5\n",
    "Input 5 elements in the array :\n",
    "element - 0 : 25\n",
    "element - 1 : 47\n",
    "element - 2 : 42\n",
    "element - 3 : 56\n",
    "element - 4 : 32\n",
    "Expected Output:\n",
    "The Even elements are:\n",
    "42 56 32\n",
    "The Odd elements are :\n",
    "25 47"
   ]
  },
  {
   "cell_type": "code",
   "execution_count": null,
   "id": "1607e4c6",
   "metadata": {},
   "outputs": [],
   "source": [
    "#include <stdio.h>\n",
    "\n",
    "void main()\n",
    " {\n",
    "    int arr1[10], arr2[10], arr3[10];\n",
    "    int i,j=0,k=0,n;\n",
    "\t\n",
    "\t\n",
    "       printf(\"\\n\\nSeparate odd and even integers in separate arrays:\\n\");\n",
    "       printf(\"------------------------------------------------------\\n\");\t\n",
    "\n",
    "       printf(\"Input the number of elements to be stored in the array :\");\n",
    "       scanf(\"%d\",&n);\n",
    "   \n",
    "       printf(\"Input %d elements in the array :\\n\",n);\n",
    "       for(i=0;i<n;i++)\n",
    "            {\n",
    "\t      printf(\"element - %d : \",i);\n",
    "\t      scanf(\"%d\",&arr1[i]);\n",
    "\t    }\n",
    "\n",
    "    for(i=0;i<n;i++)\n",
    "    {\n",
    "\tif (arr1[i]%2 == 0)\n",
    "\t{\n",
    "\t   arr2[j] = arr1[i];\n",
    "\t   j++;\n",
    "\t}\n",
    "\telse\n",
    "\t{\n",
    "\t   arr3[k] = arr1[i];\n",
    "\t   k++;\n",
    "\t}\n",
    "    }\n",
    "\n",
    "    printf(\"\\nThe Even elements are : \\n\");\n",
    "    for(i=0;i<j;i++)\n",
    "    {\n",
    "\tprintf(\"%d \",arr2[i]);\n",
    "    }\n",
    "\n",
    "    printf(\"\\nThe Odd elements are :\\n\");\n",
    "    for(i=0;i<k;i++)\n",
    "    {\n",
    "\tprintf(\"%d \", arr3[i]);\n",
    "    }\n",
    "    printf(\"\\n\\n\");\t\n",
    " }\n",
    "#https://www.w3resource.com/c-programming-exercises/array/c-array-exercise-10.php"
   ]
  },
  {
   "cell_type": "markdown",
   "id": "67fb3285",
   "metadata": {},
   "source": [
    "Question 5\n",
    "a. Write a function inside(x,y,x1,y1,x2,y2) that returns True or False depending on whether the point (x,y) lies in the rectangle with lower left corner (x1,y1) and upper right corner (x2,y2).\n",
    ">>> inside(1,1,0,0,2,3)\n",
    "True\n",
    ">>> inside(-1,-1,0,0,2,3)\n",
    "False\n",
    "b. Use function inside() from part a. to write an expression that tests whether the point (1,1) lies in both of the following rectangles: one with lower left corner (0.3, 0.5) and upper right corner (1.1, 0.7) and the other with lower left corner (0.5, 0.2) and upper right corner (1.1, 2)."
   ]
  },
  {
   "cell_type": "code",
   "execution_count": null,
   "id": "76da3625",
   "metadata": {},
   "outputs": [],
   "source": [
    "#function to check if a point lies in rectangle\n",
    "def isIn(firstCorner=(0,0),secondCorner=(0,0),point=(0,0)):\n",
    "\n",
    "   #assign values to variables\n",
    "   x1,y1=firstCorner[0],firstCorner[1]\n",
    "   x2,y2=secondCorner[0],secondCorner[1]\n",
    "\n",
    "   x,y=point[0],point[1]\n",
    "   #A point lies inside or not the rectangle\n",
    "   #if and only if it’s x-coordinate lies\n",
    "   #between the x-coordinate of the given bottom-right\n",
    "   #and top-left coordinates of the rectangle\n",
    "   #and y-coordinate lies between the y-coordinate of\n",
    "   #the given bottom-right and top-left coordinates.\n",
    "   if (x >= x1 and x <= x2 and y >= y1 and y <= y2) :\n",
    "       return True\n",
    "   #alternate case if coordinates are in reverse order\n",
    "   elif(x >= x2 and x <= x1 and y >= y2 and y <= y1):\n",
    "       return True\n",
    "\n",
    "   else:\n",
    "       return False\n",
    "#https://stackoverflow.com/questions/54433824/is-a-data-point-within-a-rectangle"
   ]
  },
  {
   "cell_type": "markdown",
   "id": "fa212593",
   "metadata": {},
   "source": [
    "Question 6\n",
    "You can turn a word into pig-Latin using the following two rules (simplified):\n",
    "• If the word starts with a consonant, move that letter to the end and append 'ay'. For example, 'happy' becomes 'appyhay' and 'pencil' becomes 'encilpay'.\n",
    "• If the word starts with a vowel, simply append 'way' to the end of the word. For example, 'enter' becomes 'enterway' and 'other' becomes 'otherway' . For our purposes, there are 5 vowels: a, e, i, o, u (so we count y as a consonant).\n",
    "Write a function pig() that takes a word (i.e., a string) as input and returns its pig-Latin form. Your function should still work if the input word contains upper case characters. Your output should always be lower case however.\n",
    ">>> pig('happy')\n",
    "'appyhay'\n",
    ">>> pig('Enter')\n",
    "'enterway'"
   ]
  },
  {
   "cell_type": "code",
   "execution_count": null,
   "id": "d4c4400f",
   "metadata": {},
   "outputs": [],
   "source": [
    "user_input = input(\"Enter word to be translated:\")\n",
    "\n",
    "def translate(user_input): \n",
    "    first = user_input[0]\n",
    "    if first == \"a\" or \"e\" or \"i\" or \"o\" or \"u\": \n",
    "         user_input = user_input.lower()\n",
    "         user_input += \"way\" \n",
    "         return user_input\n",
    "    else: \n",
    "        user_input = user_input.lower()\n",
    "        user_input = user_input[1:]+first+\"ay\" \n",
    "        return user_input \n",
    "\n",
    "print(translate(user_input))\n",
    "#https://stackoverflow.com/questions/44170483/pig-latin-python-program"
   ]
  },
  {
   "cell_type": "markdown",
   "id": "d5765466",
   "metadata": {},
   "source": [
    "Question 7\n",
    "File bloodtype1.txt records blood-types of patients (A, B, AB, O or OO) at a clinic. Write a function bldcount() that reads the file with name name and reports (i.e., prints) how many patients there are in each bloodtype.\n",
    ">>> bldcount('bloodtype.txt')\n",
    "There are 10 patients of blood type A.\n",
    "There is one patient of blood type B.\n",
    "There are 10 patients of blood type AB.\n",
    "There are 12 patients of blood type O.\n",
    "There are no patients of blood type OO."
   ]
  },
  {
   "cell_type": "markdown",
   "id": "ec1f2dd3",
   "metadata": {},
   "source": [
    "txt = 'bloodtype1.txt'\n",
    "x=txt.count(\"A\")\n",
    "print(x)"
   ]
  },
  {
   "cell_type": "markdown",
   "id": "73dc28c0",
   "metadata": {},
   "source": [
    "Write a function curconv() that takes as input:\n",
    "1. a currency represented using a string (e.g., 'JPY' for the Japanese Yen or 'EUR' for the Euro)\n",
    "2. an amount\n",
    "and then converts and returns the amount in US dollars.\n",
    ">>> curconv('EUR', 100)\n",
    "122.96544\n",
    ">>> curconv('JPY', 100)\n",
    "1.241401\n",
    "The currency rates you will need are stored in file currencies.txt:\n",
    "AUD 1.0345157 Australian Dollar\n",
    "CHF 1.0237414 Swiss Franc\n",
    "CNY 0.1550176 Chinese Yuan\n",
    "DKK 0.1651442 Danish Krone\n",
    "EUR 1.2296544 Euro\n",
    "GBP 1.5550989 British Pound\n",
    "HKD 0.1270207 Hong Kong Dollar\n",
    "INR 0.0177643 Indian Rupee\n",
    "JPY 0.01241401 Japanese Yen\n",
    "MXN 0.0751848 Mexican Peso\n",
    "MYR 0.3145411 Malaysian Ringgit\n",
    "NOK 0.1677063 Norwegian Krone\n",
    "NZD 0.8003591 New Zealand Dollar\n",
    "PHP 0.0233234 Philippine Peso\n",
    "SEK 0.148269 Swedish Krona\n",
    "SGD 0.788871 Singapore Dollar\n",
    "THB 0.0313789 Thai Baht"
   ]
  },
  {
   "cell_type": "code",
   "execution_count": 8,
   "id": "86fa8ed7",
   "metadata": {},
   "outputs": [],
   "source": [
    "def curconv(currency, amount):\n",
    "    conversion=0\n",
    "    if currency ==\"EUR\":\n",
    "        coversion = amount * 122.96544\n",
    "    elif currency ==\"JPY\":\n",
    "        conversion = amount * 1.241401 \n",
    "    return conversion"
   ]
  },
  {
   "cell_type": "markdown",
   "id": "3e86a683",
   "metadata": {},
   "source": [
    "Question 9\n",
    "Each of the following will cause an exception (an error). Identify what type of exception each will cause.\n",
    "Trying to add incompatible variables, as in\n",
    "adding 6 + ‘a’\n",
    "Referring to the 12\n",
    "th item of a list that has only 10\n",
    "items\n",
    "Using a value that is out of range for a functi\n",
    "on’s\n",
    "input, such as calling math.sqrt( 1.0)\n",
    "Using an undeclared variable, such as\n",
    "p rint(x)\n",
    "when x has not been defined\n",
    "Trying to open a file that does not exist, such as\n",
    "mistyping the file name or looking in the wrong\n",
    "directory.\n"
   ]
  },
  {
   "cell_type": "code",
   "execution_count": 10,
   "id": "3b4c2473",
   "metadata": {},
   "outputs": [
    {
     "name": "stdout",
     "output_type": "stream",
     "text": [
      "An exception of type NameError occurred. Arguments:\n",
      "(\"name 'someFunction' is not defined\",)\n"
     ]
    }
   ],
   "source": [
    "try:\n",
    "    someFunction()\n",
    "except Exception as ex:\n",
    "    template = \"An exception of type {0} occurred. Arguments:\\n{1!r}\"\n",
    "    message = template.format(type(ex).__name__, ex.args)\n",
    "    print (message)\n",
    "#https://stackoverflow.com/questions/9823936/how-do-i-determine-what-type-of-exception-occurred\n"
   ]
  },
  {
   "cell_type": "markdown",
   "id": "77b12499",
   "metadata": {},
   "source": [
    "Question 10  \n",
    "Encryption is the process of hiding the meaning of a text by substituting letters in the message with other letters, according to some system. If the process is successful, no one but the intended recipient can understand the encrypted message. Cryptanalysis refers to attempts to undo the encryption, even if some details of the encryption are unknown (for example, if an encrypted message has been intercepted). The first step of cryptanalysis is often to build up a table of letter frequencies in the encrypted text. Assume that the string letters is already defined as 'abcdefghijklmnopqrstuvwxyz'. Write a function called frequencies() that takes a string as its only parameter, and returns a list of integers, showing the number of times each character appears in the text. Your function may ignore any characters that are not in letters.\n",
    ">>> frequencies('The quick red fox got bored and went home.')\n",
    "[1, 1, 1, 3, 5, 1, 1, 2, 1, 0, 1, 0, 1, 2, 4, 0, 1, 2, 0, 2, 1, 0, 1, 1, 0, 0]\n",
    ">>> frequencies('apple')"
   ]
  },
  {
   "cell_type": "code",
   "execution_count": null,
   "id": "327233d0",
   "metadata": {},
   "outputs": [],
   "source": [
    "def frequencies('The quick red fox got bored and went home.'):\n",
    "    sum(a,b)sum(a,b):\n",
    "    return a + b\n",
    "    sum(1,2)\n",
    "    \n",
    "    frequencies(\"apple\")"
   ]
  }
 ],
 "metadata": {
  "kernelspec": {
   "display_name": "Python 3 (ipykernel)",
   "language": "python",
   "name": "python3"
  },
  "language_info": {
   "codemirror_mode": {
    "name": "ipython",
    "version": 3
   },
   "file_extension": ".py",
   "mimetype": "text/x-python",
   "name": "python",
   "nbconvert_exporter": "python",
   "pygments_lexer": "ipython3",
   "version": "3.9.13"
  }
 },
 "nbformat": 4,
 "nbformat_minor": 5
}
